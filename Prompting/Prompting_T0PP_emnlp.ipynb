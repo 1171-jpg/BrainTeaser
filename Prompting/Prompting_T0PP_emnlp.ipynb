{
 "cells": [
  {
   "cell_type": "code",
   "execution_count": null,
   "id": "589c6e27",
   "metadata": {},
   "outputs": [],
   "source": [
    "import os\n",
    "import json\n",
    "import sys\n",
    "import torch\n",
    "import random\n",
    "import numpy as np\n",
    "random.seed(10)\n",
    "from tqdm import tqdm\n",
    "from utils import *\n",
    "device=\"cuda:0\"\n",
    "%load_ext autoreload\n",
    "%autoreload 2"
   ]
  },
  {
   "cell_type": "code",
   "execution_count": null,
   "id": "a591fe6d",
   "metadata": {},
   "outputs": [],
   "source": [
    "from utils import *"
   ]
  },
  {
   "cell_type": "code",
   "execution_count": null,
   "id": "3055b724",
   "metadata": {},
   "outputs": [],
   "source": [
    "from transformers import AutoTokenizer, AutoModelForSeq2SeqLM\n",
    "\n",
    "model_path = \"bigscience/bigscience/T0pp\"\n",
    "# model_path = \"bigscience/bigscience/T0p\"\n",
    "# model_path = \"bigscience/bigscience/T0\"\n",
    "\n",
    "tokenizer = AutoTokenizer.from_pretrained(model_path)\n",
    "T0ppmodel = AutoModelForSeq2SeqLM.from_pretrained(model_path).to(device)\n"
   ]
  },
  {
   "cell_type": "code",
   "execution_count": null,
   "id": "7fca5780",
   "metadata": {},
   "outputs": [],
   "source": [
    "few_shot_examples = list(np.load(\"../data/demonstration.npy\",allow_pickle=True))\n",
    "sentence_data_path = \"\"\n",
    "wordplay_data_list = \"\"\n",
    "sentence_data_list = list(np.load(sentence_data_path,allow_pickle=True))\n",
    "wordplay_data_list = list(np.load(wordplay_data_list,allow_pickle=True))"
   ]
  },
  {
   "cell_type": "code",
   "execution_count": null,
   "id": "ce438fe7",
   "metadata": {},
   "outputs": [],
   "source": [
    "test_data_list = sentence_data_list + wordplay_data_list\n",
    "len(test_data_list)"
   ]
  },
  {
   "cell_type": "code",
   "execution_count": null,
   "id": "7284134a",
   "metadata": {},
   "outputs": [],
   "source": [
    "def get_sample_demo(sample):\n",
    "    sample_demo = \\\n",
    "\"\"\"{}\n",
    "Choose the most suitable option to answer the above question.\n",
    "Options: \n",
    "A. {}\n",
    "B. {}\n",
    "C. {}\n",
    "D. {}\"\"\".format(sample['question'],sample['choice_list'][0],sample['choice_list'][1],sample['choice_list'][2],sample['choice_list'][3])\n",
    "    \n",
    "    return sample_demo"
   ]
  },
  {
   "cell_type": "code",
   "execution_count": null,
   "id": "468690f7",
   "metadata": {},
   "outputs": [],
   "source": [
    "for sample in tqdm(test_data_list):\n",
    "    inputs = tokenizer.encode(get_sample_demo(sample), return_tensors=\"pt\").to(device)\n",
    "    outputs = T0ppmodel.generate(inputs)\n",
    "    sample['response'] = tokenizer.decode(outputs[0])"
   ]
  },
  {
   "cell_type": "code",
   "execution_count": null,
   "id": "1d8396df",
   "metadata": {},
   "outputs": [],
   "source": [
    "for index,item in enumerate(test_data_list):\n",
    "    try:\n",
    "        item['predict'] = item['response'].split('> ')[1].strip().split('<')[0].strip()\n",
    "    except:\n",
    "        print(index)"
   ]
  },
  {
   "cell_type": "code",
   "execution_count": null,
   "id": "4f3fbec0",
   "metadata": {},
   "outputs": [],
   "source": [
    "word_play,sentence_play = getResultdata(test_data_list)\n",
    "final_result = getSeperateResult(word_play,sentence_play)"
   ]
  },
  {
   "attachments": {},
   "cell_type": "markdown",
   "id": "329ac2e1",
   "metadata": {},
   "source": [
    "### Few-shot"
   ]
  },
  {
   "cell_type": "code",
   "execution_count": null,
   "id": "ae4d02ca",
   "metadata": {},
   "outputs": [],
   "source": [
    "few_shot_examples[5]"
   ]
  },
  {
   "cell_type": "code",
   "execution_count": null,
   "id": "67bbde27",
   "metadata": {},
   "outputs": [],
   "source": [
    "def get_fewshot_demo(examples,number):\n",
    "    label_to_answer = ['A','B','C','D']\n",
    "    few_shot_demon = examples[:number//2]+examples[4:4+number//2]\n",
    "    fewshot = ''\n",
    "    for sample in few_shot_demon:\n",
    "        fewshot += \\\n",
    "\"\"\"\n",
    "Question: {}\n",
    "Options: \n",
    "A: {}\n",
    "B: {}\n",
    "C: {}\n",
    "D: {}\n",
    "Answer: {}\n",
    "\"\"\".format(sample['Question'],sample['choice_list'][0],sample['choice_list'][1],sample['choice_list'][2],sample['choice_list'][3],label_to_answer[int(sample['label'])])\n",
    "    \n",
    "    return fewshot\n",
    "\n",
    "def get_single_demo(sample):\n",
    "    sample_demo = \\\n",
    "\"\"\"\n",
    "Question: {}\n",
    "Options: \n",
    "A: {}\n",
    "B: {}\n",
    "C: {}\n",
    "D: {}\"\"\".format(sample['question'],sample['choice_list'][0],sample['choice_list'][1],sample['choice_list'][2],sample['choice_list'][3])\n",
    "    \n",
    "    return sample_demo"
   ]
  },
  {
   "cell_type": "code",
   "execution_count": null,
   "id": "cb16a092",
   "metadata": {},
   "outputs": [],
   "source": [
    "demonstration = \"\"\"Read the following context and choose the best option to answer the question.\"\"\"\n",
    "demon_num = 8\n",
    "demonstration = demonstration + get_fewshot_demo(few_shot_examples,demon_num)"
   ]
  },
  {
   "cell_type": "code",
   "execution_count": null,
   "id": "e3834869",
   "metadata": {},
   "outputs": [],
   "source": [
    "print(demonstration)"
   ]
  },
  {
   "cell_type": "code",
   "execution_count": null,
   "id": "f99eaf10",
   "metadata": {},
   "outputs": [],
   "source": [
    "for sample in tqdm(test_data_list):\n",
    "    inputs = tokenizer.encode(demonstration+get_single_demo(sample), return_tensors=\"pt\").to(device)\n",
    "    outputs = T0ppmodel.generate(inputs)\n",
    "    sample['response'] = tokenizer.decode(outputs[0])"
   ]
  },
  {
   "cell_type": "code",
   "execution_count": null,
   "id": "c946e232",
   "metadata": {},
   "outputs": [],
   "source": [
    "for index,item in enumerate(test_data_list):\n",
    "    try:\n",
    "        item['predict'] = item['response'].split('> ')[1].strip().split('<')[0].strip()\n",
    "    except:\n",
    "        print(index)"
   ]
  },
  {
   "cell_type": "code",
   "execution_count": null,
   "id": "e1ea9922",
   "metadata": {},
   "outputs": [],
   "source": [
    "word_play,sentence_play = getResultdata(test_data_list)\n",
    "final_result = getSeperateResult(word_play,sentence_play)"
   ]
  }
 ],
 "metadata": {
  "kernelspec": {
   "display_name": "Python 3 (ipykernel)",
   "language": "python",
   "name": "python3"
  },
  "language_info": {
   "codemirror_mode": {
    "name": "ipython",
    "version": 3
   },
   "file_extension": ".py",
   "mimetype": "text/x-python",
   "name": "python",
   "nbconvert_exporter": "python",
   "pygments_lexer": "ipython3",
   "version": "3.7.13"
  }
 },
 "nbformat": 4,
 "nbformat_minor": 5
}
