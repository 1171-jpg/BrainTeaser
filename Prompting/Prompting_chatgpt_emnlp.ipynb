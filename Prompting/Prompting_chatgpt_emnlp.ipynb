{
 "cells": [
  {
   "cell_type": "code",
   "execution_count": null,
   "id": "5230cec2",
   "metadata": {},
   "outputs": [],
   "source": [
    "import numpy as np\n",
    "import os\n",
    "import time\n",
    "from tqdm import tqdm\n",
    "import requests\n",
    "import pandas as pd\n",
    "import xlrd\n",
    "import random"
   ]
  },
  {
   "cell_type": "code",
   "execution_count": null,
   "id": "edae7923",
   "metadata": {},
   "outputs": [],
   "source": [
    "from utils import *\n",
    "%load_ext autoreload\n",
    "%autoreload 2"
   ]
  },
  {
   "cell_type": "code",
   "execution_count": null,
   "id": "0f6d3b8e",
   "metadata": {},
   "outputs": [],
   "source": [
    "sentence_data_path = \"\"\n",
    "wordplay_data_list = \"\"\n",
    "sentence_data_list = list(np.load(sentence_data_path,allow_pickle=True))\n",
    "wordplay_data_list = list(np.load(wordplay_data_list,allow_pickle=True))"
   ]
  },
  {
   "cell_type": "code",
   "execution_count": null,
   "id": "377dcf70",
   "metadata": {},
   "outputs": [],
   "source": [
    "import openai\n",
    "openai.api_key = \"\"\n",
    "API_ENDPOINT = \"https://api.openai.com/v1/chat/completions\""
   ]
  },
  {
   "cell_type": "code",
   "execution_count": null,
   "id": "d45a4731",
   "metadata": {},
   "outputs": [],
   "source": [
    "demonstration = \"\"\"Please pick the best choice for the brain teaser. Each brain teaser has only one possible solution including the choice none of above, answer should only provide the choice:\"\"\"\n",
    "def getSample_demo(sample):\n",
    "    sample_demo = \"\"\"\n",
    "    \n",
    "Question: {}\n",
    "Choice:\n",
    "(A) {}\n",
    "(B) {}\n",
    "(C) {}\n",
    "(D) {}\n",
    "\n",
    "Answer:\"\"\".format(sample['question'],sample['choice_list'][0],sample['choice_list'][1],sample['choice_list'][2],sample['choice_list'][3])\n",
    "    \n",
    "    return sample_demo"
   ]
  },
  {
   "cell_type": "code",
   "execution_count": null,
   "id": "730f703a",
   "metadata": {},
   "outputs": [],
   "source": [
    "test_data_list = sentence_data_list + wordplay_data_list\n",
    "len(test_data_list)"
   ]
  },
  {
   "cell_type": "code",
   "execution_count": null,
   "id": "af123014",
   "metadata": {},
   "outputs": [],
   "source": [
    "data_number = len(test_data_list)\n",
    "data_index = 0\n",
    "folder_path = 'log'\n",
    "category_folder = ''\n",
    "log_path = category_folder+'_log.txt'\n",
    "sub_log_path = os.path.join(folder_path,category_folder)\n",
    "log_txt_path = os.path.join(sub_log_path,log_path)\n",
    "if not os.path.exists(sub_log_path):\n",
    "    os.makedirs(sub_log_path) \n",
    "if os.path.exists(log_txt_path):\n",
    "    os.remove(log_txt_path)\n",
    "    \n",
    "with tqdm(total=data_number) as pbar: \n",
    "    while True:\n",
    "        try:\n",
    "            with open(log_txt_path,\"a\") as file:\n",
    "                file.write(\"prompting begin at {data_index}\\n\".format(data_index=data_index))\n",
    "            sample = test_data_list[data_index]\n",
    "            utr_demon = demonstration + getSample_demo(sample)\n",
    "\n",
    "            completion = openai.ChatCompletion.create(\n",
    "            model=\"gpt-3.5-turbo\",\n",
    "            messages=[\n",
    "                {\"role\": \"system\", \"content\": \"You are a helpful assistant.\"},\n",
    "                {\"role\": \"user\", \"content\": utr_demon},\n",
    "                ],\n",
    "            temperature = 0.0,\n",
    "            top_p = 0.0,\n",
    "            )\n",
    "\n",
    "            response = completion['choices'][0]['message']['content']\n",
    "            sample['response'] = response\n",
    "            \n",
    "            if data_index >0 and data_index%50 ==0:\n",
    "                np.save(os.path.join(sub_log_path,'prompting_result_{}'.format(data_index)), test_data_list)\n",
    "            data_index+=1\n",
    "            pbar.update(1)\n",
    "            if data_index == data_number:\n",
    "                break\n",
    "        except:\n",
    "            time.sleep(60)\n",
    "            with open(log_txt_path,\"a\") as file:\n",
    "                file.write(\"reach limitation at {data_index}\\n\".format(data_index=data_index))\n",
    "                \n",
    "                \n",
    "np.save(os.path.join(folder_path,category_folder,'prompting_result_{}'.format(data_index)), test_data_list)"
   ]
  },
  {
   "attachments": {},
   "cell_type": "markdown",
   "id": "5f177e00",
   "metadata": {},
   "source": [
    "### filter noise response"
   ]
  },
  {
   "cell_type": "code",
   "execution_count": null,
   "id": "f1ca17f4",
   "metadata": {},
   "outputs": [],
   "source": [
    "for index,item in enumerate(test_data_list):\n",
    "    try:\n",
    "        item['predict'] = item['response'].split('(')[1].strip().split(')')[0].strip()\n",
    "    except:\n",
    "        print(index)"
   ]
  },
  {
   "cell_type": "code",
   "execution_count": null,
   "id": "29250a82",
   "metadata": {},
   "outputs": [],
   "source": [
    "word_play,sentence_play = getResultdata(test_data_list)\n",
    "final_result = getSeperateResult(word_play,sentence_play)"
   ]
  },
  {
   "attachments": {},
   "cell_type": "markdown",
   "id": "0e4ae39e",
   "metadata": {},
   "source": [
    "# few-shot"
   ]
  },
  {
   "cell_type": "code",
   "execution_count": null,
   "id": "ae997754",
   "metadata": {},
   "outputs": [],
   "source": [
    "few_shot_examples = list(np.load(\"../data/demonstration.npy\",allow_pickle=True))\n",
    "sentence_data_list = list(np.load(sentence_data_path,allow_pickle=True))\n",
    "wordplay_data_list = list(np.load(wordplay_data_list,allow_pickle=True))\n",
    "test_data_list = sentence_data_list + wordplay_data_list\n",
    "len(test_data_list)"
   ]
  },
  {
   "cell_type": "code",
   "execution_count": null,
   "id": "6f5fa24a",
   "metadata": {},
   "outputs": [],
   "source": [
    "few_shot_examples[0]"
   ]
  },
  {
   "cell_type": "code",
   "execution_count": null,
   "id": "9b8e0c38",
   "metadata": {},
   "outputs": [],
   "source": [
    "def getFewshot_demo(examples,number):\n",
    "    label_to_answer = ['A','B','C','D']\n",
    "    few_shot_demon = examples[:number//2]+examples[4:4+number//2]\n",
    "    fewshot = ''\n",
    "    for sample in few_shot_demon:\n",
    "        fewshot += \"\"\"\n",
    "        \n",
    "Question: {}\n",
    "Choice:\n",
    "(A) {}\n",
    "(B) {}\n",
    "(C) {}\n",
    "(D) {}\n",
    "\n",
    "Answer:({}) {}\"\"\".format(sample['Question'],sample['choice_list'][0],sample['choice_list'][1]\\\n",
    "                    ,sample['choice_list'][2],sample['choice_list'][3]\\\n",
    "                         ,label_to_answer[int(sample['label'])],sample['choice_list'][int(sample['label'])])   \n",
    "    \n",
    "    return fewshot"
   ]
  },
  {
   "cell_type": "code",
   "execution_count": null,
   "id": "3c8e4573",
   "metadata": {},
   "outputs": [],
   "source": [
    "demonstration = \"\"\"Please pick the best choice for the brain teaser. Each brain teaser has only one possible solution including the choice none of above, answer should only provide the choice:\"\"\"\n",
    "demon_num = 4\n",
    "demonstration = demonstration + getFewshot_demo(few_shot_examples,demon_num)"
   ]
  },
  {
   "cell_type": "code",
   "execution_count": null,
   "id": "76b5e4f7",
   "metadata": {},
   "outputs": [],
   "source": [
    "print(demonstration)"
   ]
  },
  {
   "cell_type": "code",
   "execution_count": null,
   "id": "d54c53ba",
   "metadata": {},
   "outputs": [],
   "source": [
    "data_number = len(test_data_list)\n",
    "data_index = 0\n",
    "folder_path = 'log'\n",
    "category_folder = ''\n",
    "log_path = category_folder+'_log.txt'\n",
    "sub_log_path = os.path.join(folder_path,category_folder)\n",
    "log_txt_path = os.path.join(sub_log_path,log_path)\n",
    "if not os.path.exists(sub_log_path):\n",
    "    os.makedirs(sub_log_path) \n",
    "if os.path.exists(log_txt_path):\n",
    "    os.remove(log_txt_path)\n",
    "    \n",
    "with tqdm(total=data_number) as pbar: \n",
    "    while True:\n",
    "        try:\n",
    "            with open(log_txt_path,\"a\") as file:\n",
    "                file.write(\"prompting begin at {data_index}\\n\".format(data_index=data_index))\n",
    "            sample = test_data_list[data_index]\n",
    "            utr_demon = demonstration + getSample_demo(sample)\n",
    "\n",
    "            completion = openai.ChatCompletion.create(\n",
    "            model=\"gpt-3.5-turbo\",\n",
    "            messages=[\n",
    "                {\"role\": \"system\", \"content\": \"You are a helpful assistant.\"},\n",
    "                {\"role\": \"user\", \"content\": utr_demon},\n",
    "                ],\n",
    "            temperature = 0.0,\n",
    "            top_p = 0.0,\n",
    "            )\n",
    "\n",
    "            response = completion['choices'][0]['message']['content']\n",
    "            sample['response'] = response\n",
    "            \n",
    "            if data_index >0 and data_index%50 ==0:\n",
    "                np.save(os.path.join(sub_log_path,'prompting_result_{}'.format(data_index)), test_data_list)\n",
    "            data_index+=1\n",
    "            pbar.update(1)\n",
    "            if data_index == data_number:\n",
    "                break\n",
    "        except:\n",
    "            time.sleep(60)\n",
    "            with open(log_txt_path,\"a\") as file:\n",
    "                file.write(\"reach limitation at {data_index}\\n\".format(data_index=data_index))\n",
    "                \n",
    "                \n",
    "np.save(os.path.join(folder_path,category_folder,'prompting_result_{}'.format(data_index)), test_data_list)"
   ]
  },
  {
   "cell_type": "code",
   "execution_count": null,
   "id": "f7f4c536",
   "metadata": {},
   "outputs": [],
   "source": [
    "for index,item in enumerate(test_data_list):\n",
    "    try:\n",
    "        item['predict'] = item['response'].split('(')[1].strip().split(')')[0].strip()\n",
    "    except:\n",
    "        print(index)"
   ]
  },
  {
   "cell_type": "code",
   "execution_count": null,
   "id": "44976298",
   "metadata": {},
   "outputs": [],
   "source": [
    "word_play,sentence_play = getResultdata(test_data_list)\n",
    "final_result = getSeperateResult(word_play,sentence_play)"
   ]
  },
  {
   "cell_type": "code",
   "execution_count": null,
   "id": "79563092",
   "metadata": {},
   "outputs": [],
   "source": []
  }
 ],
 "metadata": {
  "kernelspec": {
   "display_name": "Python 3 (ipykernel)",
   "language": "python",
   "name": "python3"
  },
  "language_info": {
   "codemirror_mode": {
    "name": "ipython",
    "version": 3
   },
   "file_extension": ".py",
   "mimetype": "text/x-python",
   "name": "python",
   "nbconvert_exporter": "python",
   "pygments_lexer": "ipython3",
   "version": "3.7.13"
  }
 },
 "nbformat": 4,
 "nbformat_minor": 5
}
