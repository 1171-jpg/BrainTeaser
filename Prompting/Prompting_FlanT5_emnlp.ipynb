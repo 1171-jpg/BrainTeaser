{
 "cells": [
  {
   "cell_type": "code",
   "execution_count": null,
   "id": "4a3228d7",
   "metadata": {},
   "outputs": [],
   "source": [
    "import os\n",
    "import json\n",
    "import sys\n",
    "import torch\n",
    "import random\n",
    "import numpy as np\n",
    "import random\n",
    "random.seed(10)\n",
    "from tqdm import tqdm\n",
    "from utils import *\n",
    "device=\"cuda:0\"\n",
    "%load_ext autoreload\n",
    "%autoreload 2"
   ]
  },
  {
   "cell_type": "code",
   "execution_count": null,
   "id": "982655ee",
   "metadata": {},
   "outputs": [],
   "source": [
    "from utils import *"
   ]
  },
  {
   "cell_type": "code",
   "execution_count": null,
   "id": "735eeecc",
   "metadata": {},
   "outputs": [],
   "source": [
    "from transformers import AutoTokenizer, AutoModelForSeq2SeqLM\n",
    "model_path = 'google/flan-t5-xxl'\n",
    "# model_path = 'google/flan-t5-xl'\n",
    "# model_path = 'google/flan-t5-large'\n",
    "\n",
    "tokenizer = AutoTokenizer.from_pretrained(model_path)\n",
    "\n",
    "model = AutoModelForSeq2SeqLM.from_pretrained(model_path).to(device)\n"
   ]
  },
  {
   "cell_type": "code",
   "execution_count": null,
   "id": "0297e5e3",
   "metadata": {},
   "outputs": [],
   "source": [
    "few_shot_examples = list(np.load(\"../data/demonstration.npy\",allow_pickle=True))\n",
    "sentence_data_path = \"\"\n",
    "wordplay_data_list = \"\"\n",
    "sentence_data_list = list(np.load(sentence_data_path,allow_pickle=True))\n",
    "wordplay_data_list = list(np.load(wordplay_data_list,allow_pickle=True))"
   ]
  },
  {
   "cell_type": "code",
   "execution_count": null,
   "id": "627d7d81",
   "metadata": {},
   "outputs": [],
   "source": [
    "test_data_list = sentence_data_path + wordplay_data_list\n",
    "len(test_data_list)"
   ]
  },
  {
   "cell_type": "code",
   "execution_count": null,
   "id": "01f7f101",
   "metadata": {},
   "outputs": [],
   "source": [
    "def get_sample_demo(sample):\n",
    "    sample_demo = \"Question: {}\\n\\nWhat is the correct answer to the question from the following choices?\\n(A) {}\\n(B) {}\\n(C) {}\\n(D) {}\".format(sample['question'],sample['choice_list'][0],sample['choice_list'][1],sample['choice_list'][2],sample['choice_list'][3])\n",
    "    \n",
    "    return sample_demo"
   ]
  },
  {
   "cell_type": "code",
   "execution_count": null,
   "id": "72beaab2",
   "metadata": {},
   "outputs": [],
   "source": [
    "print(get_sample_demo(test_data_list[0]))"
   ]
  },
  {
   "cell_type": "code",
   "execution_count": null,
   "id": "d1802b55",
   "metadata": {},
   "outputs": [],
   "source": [
    "for sample in tqdm(test_data_list):\n",
    "    inputs = tokenizer.encode(get_sample_demo(sample), return_tensors=\"pt\").to(device)\n",
    "    outputs = model.generate(inputs)\n",
    "    sample['response'] = tokenizer.decode(outputs[0])"
   ]
  },
  {
   "cell_type": "code",
   "execution_count": null,
   "id": "ebb2b4e5",
   "metadata": {},
   "outputs": [],
   "source": [
    "for index,item in enumerate(test_data_list):\n",
    "    try:\n",
    "        item['predict'] = item['response'].split('(')[1].strip().split(')')[0].strip()\n",
    "    except:\n",
    "        print(index)"
   ]
  },
  {
   "cell_type": "code",
   "execution_count": null,
   "id": "4f894daa",
   "metadata": {},
   "outputs": [],
   "source": [
    "word_play,sentence_play = getResultdata(test_data_list)\n",
    "final_result = getSeperateResult(word_play,sentence_play)"
   ]
  },
  {
   "attachments": {},
   "cell_type": "markdown",
   "id": "a3de2396",
   "metadata": {},
   "source": [
    "### Few-shot"
   ]
  },
  {
   "cell_type": "code",
   "execution_count": null,
   "id": "308025cf",
   "metadata": {},
   "outputs": [],
   "source": [
    "def get_fewshot_demo(examples,number):\n",
    "    label_to_answer = ['A','B','C','D']\n",
    "    few_shot_demon = examples[:number//2]+examples[4:4+number//2]\n",
    "    fewshot = ''\n",
    "    for sample in few_shot_demon:\n",
    "        fewshot += \\\n",
    "\"\"\"\n",
    "Question: {}\n",
    "\n",
    "What is the correct answer to the question from the following choices?\n",
    "(A): {}\n",
    "(B): {}\n",
    "(C): {}\n",
    "(D): {}\n",
    "\n",
    "Answer: ({})\n",
    "\"\"\".format(sample['Question'],sample['choice_list'][0],sample['choice_list'][1],sample['choice_list'][2],sample['choice_list'][3],label_to_answer[int(sample['label'])])\n",
    "    \n",
    "    return fewshot\n",
    "\n",
    "def get_single_demo(sample):\n",
    "    sample_demo = \\\n",
    "\"\"\"\n",
    "Question: {}\n",
    "\n",
    "What is the correct answer to the question from the following choices?\n",
    "Options: \n",
    "(A): {}\n",
    "(B): {}\n",
    "(C): {}\n",
    "(D): {}\"\"\".format(sample['question'],sample['choice_list'][0],sample['choice_list'][1],sample['choice_list'][2],sample['choice_list'][3])\n",
    "    \n",
    "    return sample_demo"
   ]
  },
  {
   "cell_type": "code",
   "execution_count": null,
   "id": "76a6e9ec",
   "metadata": {},
   "outputs": [],
   "source": [
    "demon_num = 2\n",
    "demonstration = get_fewshot_demo(few_shot_examples,demon_num)"
   ]
  },
  {
   "cell_type": "code",
   "execution_count": null,
   "id": "0d4a8fb4",
   "metadata": {},
   "outputs": [],
   "source": [
    "print(demonstration)"
   ]
  },
  {
   "cell_type": "code",
   "execution_count": null,
   "id": "401a4036",
   "metadata": {},
   "outputs": [],
   "source": [
    "for sample in tqdm(test_data_list):\n",
    "    inputs = tokenizer.encode(demonstration+get_single_demo(sample), return_tensors=\"pt\").to(device)\n",
    "    outputs = model.generate(inputs)\n",
    "    sample['response'] = tokenizer.decode(outputs[0])"
   ]
  },
  {
   "cell_type": "code",
   "execution_count": null,
   "id": "20d7cfba",
   "metadata": {},
   "outputs": [],
   "source": [
    "for index,item in enumerate(test_data_list):\n",
    "    try:\n",
    "        item['predict'] = item['response'].split('(')[1].strip().split(')')[0].strip()\n",
    "    except:\n",
    "        print(index)"
   ]
  },
  {
   "cell_type": "code",
   "execution_count": null,
   "id": "9686726a",
   "metadata": {},
   "outputs": [],
   "source": [
    "word_play,sentence_play = getResultdata(test_data_list)\n",
    "final_result = getSeperateResult(word_play,sentence_play)"
   ]
  }
 ],
 "metadata": {
  "kernelspec": {
   "display_name": "Python 3 (ipykernel)",
   "language": "python",
   "name": "python3"
  },
  "language_info": {
   "codemirror_mode": {
    "name": "ipython",
    "version": 3
   },
   "file_extension": ".py",
   "mimetype": "text/x-python",
   "name": "python",
   "nbconvert_exporter": "python",
   "pygments_lexer": "ipython3",
   "version": "3.9.16"
  }
 },
 "nbformat": 4,
 "nbformat_minor": 5
}
